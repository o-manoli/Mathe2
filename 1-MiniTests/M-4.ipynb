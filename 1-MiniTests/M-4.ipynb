{
 "cells": [
  {
   "attachments": {},
   "cell_type": "markdown",
   "metadata": {
    "tags": []
   },
   "source": [
    "# Mathe2 Minitest 4"
   ]
  },
  {
   "attachments": {},
   "cell_type": "markdown",
   "metadata": {
    "jp-MarkdownHeadingCollapsed": true,
    "tags": []
   },
   "source": [
    "# Code"
   ]
  },
  {
   "cell_type": "code",
   "execution_count": 1,
   "metadata": {},
   "outputs": [],
   "source": [
    "import sympy as sp\n",
    "from functools import partial\n",
    "from urllib.parse import quote\n",
    "from typing import Callable, Iterable\n",
    "from functools import singledispatchmethod\n",
    "from IPython.core.display import Math, Latex, Markdown\n",
    "\n",
    "# - - - - - - - - -\n",
    "\n",
    "###############\n",
    "### Globals ###\n",
    "###############\n",
    "\n",
    "k = sp.symbols('k', positive = True)\n",
    "x = sp.symbols('x')\n",
    "\n",
    "\n",
    "# shorthand\n",
    "\n",
    "def L(Obj, *args, **kwargs) -> str: return sp.latex(Obj, *args, **kwargs)\n",
    "\n",
    "def P(STR:str, *args, **kwargs):        display(Math(STR, *args, **kwargs))\n",
    "def PL(STR:str, *args, **kwargs):       display(Latex(STR, *args, **kwargs))\n",
    "def PM(STR:str, *args, **kwargs):       display(Markdown(STR, *args, **kwargs))\n",
    "\n",
    "def PF(*args, Format:str | None = None):\n",
    "   LF = lambda O: L(O) if not isinstance(O, str) else O # Latex-Filter\n",
    "   Format = \" \".join(len(args)*[\"{}\"]) if Format is None else Format\n",
    "   P(Format.format(*map(LF, args)))\n",
    "\n",
    "\n",
    "## Sympy\n",
    "\n",
    "### Aliases\n",
    "from sympy import Rational as R, oo\n",
    "\n",
    "# - - - - - - - - -\n",
    "\n",
    "######################\n",
    "### Shared Library ###\n",
    "######################\n",
    "\n",
    "## Latex\n",
    "\n",
    "def LSum(Seq:sp.Expr, \n",
    "   upper:sp.Expr=oo, lower:sp.Expr=sp.Number(0), var = k\n",
    "   ) -> Callable[..., str]:\n",
    "   def Sum(upper:sp.Expr | int = upper, lower:sp.Expr=lower,\n",
    "           SUM:str = r\"\\sum_{{{} = {}}}^{{{}}}\",\n",
    "           SumFormat:Callable[[str, str], str] = lambda S, sequence: f\"{S} {sequence}\"\n",
    "           )->str:\n",
    "      return SumFormat(SUM.format(*map(L, [var, lower, upper])), L(Seq))\n",
    "   return Sum\n",
    "\n",
    "def L_limit(Seq:sp.Expr, seek:sp.Expr=oo, var = k, Format = \"{} {}\") -> str:\n",
    "   LIMIT = r\"\\lim_{{{} \\to {}}}\".format(L(var), L(seek))\n",
    "   return Format.format(LIMIT, L(Seq))\n",
    "\n",
    "def LABS_limit(Seq:sp.Expr, seek:sp.Expr=oo, var = k) -> str:\n",
    "   return L_limit(Seq, seek, var, Format = \"{} |{}|\")\n",
    "\n",
    "def LABS_limitEval(Seq:sp.Expr, seek:sp.Expr=oo, var = k) -> str:\n",
    "   LIMIT = r\"\\lim_{{{} \\to {}}}\".format(L(var), L(seek))\n",
    "   return f\" \\\n",
    "   {LABS_limit(Seq, seek, var)} = \\\n",
    "   {LIMIT} {L(abs(Seq).doit())} = \\\n",
    "   {L(abs(Seq).limit(var, seek))} \\\n",
    "   \"\n",
    "\n",
    "def L_SeriesDisplay(Sequence:list) -> str:\n",
    "   return f\"{'+'.join(f'({L(a)})' for a in Sequence)} = {L(sum(Sequence))}\"\n",
    "\n",
    "def L_SequenceDisplay(Sequence:list) -> str:\n",
    "   return r'\\{' + (sep := r',\\hspace{.5cm}').join(L(a) for a in Sequence) + f\"{sep}...\" + r'\\}'\n",
    "\n",
    "\n",
    "# - - - - - - - - - -\n",
    "\n",
    "## Wolfram Alpha\n",
    "\n",
    "def WRALink(CMD:str)->str:\n",
    "  return r\"https://www.wolframalpha.com/input/?i=\" + quote(CMD)\n",
    "\n",
    "def WRAMarkdown(\n",
    "      CMD:str, \n",
    "      Format:str = \"#### [{}]({})\",\n",
    "      FormatLink:Callable[[str], str] = lambda CMD: f\"WRA: {CMD}\"\n",
    "      ):\n",
    "  PM(Format.format(FormatLink(CMD), WRALink(CMD)))\n",
    "\n",
    "WRAMarkdownMath = partial(WRAMarkdown, FormatLink = lambda CMD: f\"WRA: ${CMD}$\")\n",
    "\n",
    "# - - - - - - - - - - - - -\n",
    "\n",
    "## Math\n",
    "\n",
    "class SerializedSequence:\n",
    "   def __init__(\n",
    "      self, Seq:sp.Expr, var:sp.Symbol = k, \n",
    "      Sub: Callable[[int|sp.Expr], sp.Expr] | None = None\n",
    "      ) -> None:\n",
    "      self.Seq = Seq\n",
    "      self.k = var\n",
    "      if Sub is None:\n",
    "        def Sububsitude(x, Seq:sp.Expr = self.Seq) -> sp.Expr:\n",
    "           return Seq.subs({self.k: x}) # type: ignore\n",
    "        Sub = Sububsitude\n",
    "      self.Sub = Sub\n",
    "\n",
    "   @staticmethod\n",
    "   def numerical(index:slice) -> Iterable:\n",
    "      start = 0 if index.start is None else index.start\n",
    "      stop = index.stop     # must be there!\n",
    "      step  = 1 if index.step is None else index.step\n",
    "      return range(start, stop+1, step)   # Series start at 0 too\n",
    "\n",
    "   @singledispatchmethod      # general dispatch definition DEFAULT\n",
    "   def __getitem__(self, index):\n",
    "      raise NotImplementedError('Unsupported Access')\n",
    "\n",
    "   @__getitem__.register(int)    # Normal Sequence Behaviour\n",
    "   def _(self, index) -> sp.Expr:\n",
    "      return self.Sub(index)\n",
    "\n",
    "   @__getitem__.register(slice)  # A Series\n",
    "   def _(self, index):\n",
    "      if index.stop is None:    # Series limit to inf #TODO\n",
    "         # regardless what the other values are! start, stop, step\n",
    "         raise NotImplemented(\"Still don't know how to do it\")\n",
    "      if index.stop is oo:      # Sequence limit to inf\n",
    "         return self.Seq.limit(k, oo)\n",
    "      if index.start is None:\n",
    "         return sum(self.Sub(i) for i in self.numerical(index)) # type: ignore\n",
    "      return [self.Sub(i) for i in self.numerical(index)]\n",
    "\n",
    "def GeometricSeries(Sequence:sp.Expr, var:sp.Symbol = k) -> sp.Expr:\n",
    "   # should be a Nullfolge Anyway #Unfug\n",
    "   return (1 - abs(Sequence))/(1 - Sequence.subs(var, 1))  # type: ignore\n",
    "\n",
    "## Taylor Polynomials\n",
    "\n",
    "KnownSeries:dict[str, SerializedSequence] = dict()\n",
    "\n",
    "def SubstitutedSeries(\n",
    "    Sequence:SerializedSequence,\n",
    "    f:sp.Expr = sp.Function('f'),\n",
    "    x:sp.Symbol = x,\n",
    "    innerFunction: sp.Expr = x,\n",
    "    factor:sp.Expr = sp.Number(1)\n",
    "    )->SerializedSequence:\n",
    "    def evaluate(i:int|sp.Expr) -> sp.Expr:\n",
    "        return factor * Sequence.Sub(i).subs(x, innerFunction)\n",
    "    return SerializedSequence(f, Sub=evaluate)\n",
    "\n",
    "# beware of empty space\n",
    "KnownSeries['1/(1 - x)'] = SerializedSequence(\n",
    "   x**k, var=k\n",
    ")\n",
    "\n",
    "BruchSeries = partial(SubstitutedSeries, KnownSeries['1/(1 - x)'])\n",
    "\n",
    "# - - - -\n",
    "\n",
    "KnownSeries['e'] = SerializedSequence(\n",
    "   x**k / sp.factorial(k), var=k\n",
    ")\n",
    "\n",
    "ESeries = partial(SubstitutedSeries, KnownSeries['e'])\n",
    "\n",
    "# - - - -\n",
    "\n",
    "# Buch starts at 1 *or modify to start at 0\n",
    "KnownSeries['ln(1 + x)'] = SerializedSequence(\n",
    "   (-1)**k * x**(k+1) / (k+1), var=k\n",
    ")\n",
    "\n",
    "LNSeries = partial(SubstitutedSeries, KnownSeries['ln(1 + x)'])\n",
    "\n",
    "# - - - -\n",
    "\n",
    "KnownSeries['sin'] = SerializedSequence(\n",
    "   (-1)**k / sp.factorial(2*k+1) * x**(2*k + 1),\n",
    "   var=k\n",
    ")\n",
    "\n",
    "SinSeries = partial(SubstitutedSeries, KnownSeries['sin'])\n",
    "\n",
    "# - - - -\n",
    "\n",
    "KnownSeries['cos'] = SerializedSequence(\n",
    "   (-1)**k / sp.factorial(2*k) * x**(2*k),\n",
    "   var=k\n",
    ")\n",
    "\n",
    "CosSeries = partial(SubstitutedSeries, KnownSeries['cos'])\n",
    "\n",
    "# - - - - - - -- - - - -- - - - -\n",
    "\n",
    "def PolynomialApproximationOf(Sequence:SerializedSequence, until:int, x:sp.Symbol = x):\n",
    "    Seq = list()\n",
    "    def f(i):\n",
    "        Seq.append(Sequence[i])\n",
    "        return sp.Poly(Seq[-1], x).degree()\n",
    "\n",
    "    i = 0\n",
    "    while f(i) < until:\n",
    "        i += 1\n",
    "\n",
    "    return sum(Seq[:-1])\n",
    "\n",
    "def ApproximateFPolynomial(f:sp.Expr, x0 = 1, until:int = 2, x:sp.Symbol = x):\n",
    "   PF(f\"f ({x}) = \", f)\n",
    "   def evaluate(i:int | sp.Expr):\n",
    "      return f.diff(x, i).subs(x, x0)\n",
    "\n",
    "   DF = f'f{{}} ({x0}) = '\n",
    "   df = lambda i: DF.format(i*\"'\")\n",
    "\n",
    "   for i in range(until+1):\n",
    "      PF(df(i), evaluate(i))\n",
    "\n",
    "   def Sub(i:int | sp.Expr) -> sp.Expr:\n",
    "      return evaluate(i) * (x-x0)**i / sp.factorial(i)\n",
    "\n",
    "   def Format():\n",
    "      T = SerializedSequence(f, Sub=Sub)\n",
    "      return '+'.join(f\"{L(t)}\" for t in T[0:until][::-1] if t != 0)\n",
    "\n",
    "   PF(f\"T_{{{until}}} ({x}) = \", Format())\n",
    "\n",
    "### Convergence\n",
    "\n",
    "def LeibnizK(Seq:sp.Expr, n:int=3, Section:str = '#', k:sp.Symbol = k):\n",
    "   PM(f\"{Section}# Leibniz-Kriterium\")\n",
    "\n",
    "   Sequence = SerializedSequence(Seq)\n",
    "   P(f\"a_{{k}} = {L(Seq)} = {L_SequenceDisplay(Sequence[0:n+2])}\")\n",
    "\n",
    "   P(f\"{LABS_limitEval(Seq)}\")\n",
    "\n",
    "   if ((ak := abs(Seq)).limit(k, oo) == 0):\n",
    "      PM(r\" $\\implies$ Nullfolge\")\n",
    "   else:\n",
    "      PM(r\" $\\implies$ Keine Nullfolge\")\n",
    "\n",
    "   P(f\" |a_{{k}} | = {L(ak)} \\\\hspace{{1cm}} |a_{{k+1}}| = {L(ak.subs(k, k+1).simplify())}\")\n",
    "\n",
    "   def SD(k):   return L_SeriesDisplay(Sequence[0:k])\n",
    "\n",
    "   P(f\"\\\\widetilde{{S}} = {(Sum := LSum(Seq))(n-1)} = {SD(n-1)}\")\n",
    "   P(f\"{Sum(n)} = {SD(n)}\")\n",
    "\n",
    "   # C = lambda a, b: '==' if a == b else ('>' if a > b else '<')\n",
    "   C = lambda a, b: r'\\le' if a <= b else '>'\n",
    "\n",
    "   P(f\"|S_{{{n}}} - \\\\widetilde{{S}}| =  |{Sum(n)} - {Sum(n-1)}| = \\\n",
    "     |{L(S := Sequence[:n])} - {L(S_ := Sequence[:n-1])}| = \\\n",
    "     {L(Diff := abs(S-S_))} {C(Diff, Sn := abs(Sequence[n]))} ( |a_{{{n}}}| = {L(Sn)})\\\n",
    "      \")\n",
    "\n",
    "   PM(f\"{Section}## Wolfram Alpha\")\n",
    "   WRAMarkdown(CMD=f\"|{L(Seq)}| where {k} is {n}\", FormatLink=lambda CMD: f\"|${L(Seq)}$| where {k} is {n}\")\n",
    "   WRAMarkdownMath(Sum(n-1))\n",
    "   WRAMarkdownMath(Sum(n))\n",
    "\n",
    "\n",
    "# - - - - - - - - - - - - -\n",
    "\n",
    "## Display\n",
    "\n",
    "def DescribeSequence(Seq:sp.Expr, n:int=4, ParentSection:str = '#'):\n",
    "\n",
    "   Sequence = SerializedSequence(Seq)\n",
    "\n",
    "   PM(f\"{ParentSection}# Describing Sequence ${L(Seq)}$:\")\n",
    "\n",
    "   for i in range(n):\n",
    "      PF(k,f\"= {i} :\",  r\"\\hspace{1cm}\", f\"a_{{{i}}} = \", Sequence[i])\n",
    "\n",
    "   P(f\"{L(Seq)} = {L_SequenceDisplay(S := Sequence[0:n+2])}\")\n",
    "   AbsSeqD = L_SequenceDisplay([abs(a) for a in S])\n",
    "   P(f\"|{L(Seq)}| = {L(abs(Seq).doit())} = {AbsSeqD}\")\n",
    "   P(LABS_limitEval(Seq))\n",
    "\n",
    "   PM(f\"{ParentSection}## Wolfram Alpha\")\n",
    "   WRAMarkdownMath(L(Seq))\n",
    "   WRAMarkdownMath(LABS_limit(Seq))\n",
    "\n",
    "def DescribeSeries(Seq:sp.Expr, n:int=4, ParentSection:str = '#'):\n",
    "\n",
    "   Sequence = SerializedSequence(Seq)\n",
    "\n",
    "   def S(k):   return L_SeriesDisplay(Sequence[0:k])\n",
    "\n",
    "   PM(f\"{ParentSection}# Describing Series ${(Sum := LSum(Seq))()}$:\")\n",
    "\n",
    "   for i in range(n):\n",
    "      P(f\"k = {i}: {Sum(i)} = {S(i)}\")\n",
    "\n",
    "   P(f\"{L(Seq)} = {L_SequenceDisplay(Sequence[0:n])}\")\n",
    "   AbsSeqD = L_SequenceDisplay([abs(a) for a in Sequence[0:n]])\n",
    "   P(f\"|{L(Seq)}| = {L(abs(Seq).doit())} = {AbsSeqD}\")\n",
    "   P(LABS_limitEval(Seq))\n",
    "\n",
    "   PM(f\"{ParentSection}## Wolfram Alpha\")\n",
    "   for i in range(n):\n",
    "      WRAMarkdownMath(Sum(i))\n",
    "   WRAMarkdownMath(Sum())\n",
    "\n",
    "def DescribeGeometricSeries(Seq:sp.Expr, n:int=4, ParentSection:str = '#'):\n",
    "\n",
    "   Sequence = SerializedSequence(Seq)\n",
    "\n",
    "   def S(k):   return L_SeriesDisplay(Sequence[0:k])\n",
    "\n",
    "   PM(f\"{ParentSection}# Describing Geometric Series ${(Sum := LSum(Seq))()}$:\")\n",
    "\n",
    "   P(f\"{L(Seq)} = {L_SequenceDisplay(Sequence[0:n+2])}\")\n",
    "   P(f\"k = {(i := n-1)}: {Sum(i)} = {S(i)}\")\n",
    "\n",
    "   series = GeometricSeries(Seq)\n",
    "\n",
    "   PF(Seq, LSum(Seq)(), L_limit(series), series.limit(k, oo),\n",
    "      Format=\"{}, {} = {} = {}\")\n",
    "\n",
    "   PM(f\"{ParentSection}## Wolfram Alpha\")\n",
    "   WRAMarkdownMath(Sum())\n",
    "\n",
    "# - - - - - - - - - - - - - - - - - - - - - - - - - - - - - -"
   ]
  },
  {
   "attachments": {},
   "cell_type": "markdown",
   "metadata": {
    "tags": []
   },
   "source": [
    "# Q-1"
   ]
  },
  {
   "cell_type": "code",
   "execution_count": 2,
   "metadata": {},
   "outputs": [
    {
     "data": {
      "text/markdown": [
       "## Describing Sequence $\\frac{7}{k + 1}$:"
      ],
      "text/plain": [
       "<IPython.core.display.Markdown object>"
      ]
     },
     "metadata": {},
     "output_type": "display_data"
    },
    {
     "data": {
      "text/latex": [
       "$\\displaystyle k = 0 : \\hspace{1cm} a_{0} =  7$"
      ],
      "text/plain": [
       "<IPython.core.display.Math object>"
      ]
     },
     "metadata": {},
     "output_type": "display_data"
    },
    {
     "data": {
      "text/latex": [
       "$\\displaystyle k = 1 : \\hspace{1cm} a_{1} =  \\frac{7}{2}$"
      ],
      "text/plain": [
       "<IPython.core.display.Math object>"
      ]
     },
     "metadata": {},
     "output_type": "display_data"
    },
    {
     "data": {
      "text/latex": [
       "$\\displaystyle k = 2 : \\hspace{1cm} a_{2} =  \\frac{7}{3}$"
      ],
      "text/plain": [
       "<IPython.core.display.Math object>"
      ]
     },
     "metadata": {},
     "output_type": "display_data"
    },
    {
     "data": {
      "text/latex": [
       "$\\displaystyle k = 3 : \\hspace{1cm} a_{3} =  \\frac{7}{4}$"
      ],
      "text/plain": [
       "<IPython.core.display.Math object>"
      ]
     },
     "metadata": {},
     "output_type": "display_data"
    },
    {
     "data": {
      "text/latex": [
       "$\\displaystyle \\frac{7}{k + 1} = \\{7,\\hspace{.5cm}\\frac{7}{2},\\hspace{.5cm}\\frac{7}{3},\\hspace{.5cm}\\frac{7}{4},\\hspace{.5cm}\\frac{7}{5},\\hspace{.5cm}\\frac{7}{6},\\hspace{.5cm}1,\\hspace{.5cm}...\\}$"
      ],
      "text/plain": [
       "<IPython.core.display.Math object>"
      ]
     },
     "metadata": {},
     "output_type": "display_data"
    },
    {
     "data": {
      "text/latex": [
       "$\\displaystyle |\\frac{7}{k + 1}| = \\frac{7}{k + 1} = \\{7,\\hspace{.5cm}\\frac{7}{2},\\hspace{.5cm}\\frac{7}{3},\\hspace{.5cm}\\frac{7}{4},\\hspace{.5cm}\\frac{7}{5},\\hspace{.5cm}\\frac{7}{6},\\hspace{.5cm}1,\\hspace{.5cm}...\\}$"
      ],
      "text/plain": [
       "<IPython.core.display.Math object>"
      ]
     },
     "metadata": {},
     "output_type": "display_data"
    },
    {
     "data": {
      "text/latex": [
       "$\\displaystyle     \\lim_{k \\to \\infty} |\\frac{7}{k + 1}| =    \\lim_{k \\to \\infty} \\frac{7}{k + 1} =    0    $"
      ],
      "text/plain": [
       "<IPython.core.display.Math object>"
      ]
     },
     "metadata": {},
     "output_type": "display_data"
    },
    {
     "data": {
      "text/markdown": [
       "### Wolfram Alpha"
      ],
      "text/plain": [
       "<IPython.core.display.Markdown object>"
      ]
     },
     "metadata": {},
     "output_type": "display_data"
    },
    {
     "data": {
      "text/markdown": [
       "#### [WRA: $\\frac{7}{k + 1}$](https://www.wolframalpha.com/input/?i=%5Cfrac%7B7%7D%7Bk%20%2B%201%7D)"
      ],
      "text/plain": [
       "<IPython.core.display.Markdown object>"
      ]
     },
     "metadata": {},
     "output_type": "display_data"
    },
    {
     "data": {
      "text/markdown": [
       "#### [WRA: $\\lim_{k \\to \\infty} |\\frac{7}{k + 1}|$](https://www.wolframalpha.com/input/?i=%5Clim_%7Bk%20%5Cto%20%5Cinfty%7D%20%7C%5Cfrac%7B7%7D%7Bk%20%2B%201%7D%7C)"
      ],
      "text/plain": [
       "<IPython.core.display.Markdown object>"
      ]
     },
     "metadata": {},
     "output_type": "display_data"
    },
    {
     "name": "stdout",
     "output_type": "stream",
     "text": [
      "Die Reihe ist aber größer als die harmonische Reihe für denselben k wert\n",
      "Harmonische Reihe -> divergiert ==> Meine Reihe -> divergiert\n"
     ]
    }
   ],
   "source": [
    "def A1(Seq:sp.Expr, n:int=4, Section:str = '#'):\n",
    "   return DescribeSequence(Seq, n, Section)\n",
    "\n",
    "Sequence = 7/(k+1)\n",
    "A1(Sequence, 4)\n",
    "\n",
    "print(\"Die Reihe ist aber größer als die harmonische Reihe für denselben k wert\")\n",
    "print(\"Harmonische Reihe -> divergiert ==> Meine Reihe -> divergiert\")"
   ]
  },
  {
   "attachments": {},
   "cell_type": "markdown",
   "metadata": {
    "jp-MarkdownHeadingCollapsed": true,
    "tags": []
   },
   "source": [
    "# Q-2"
   ]
  },
  {
   "cell_type": "code",
   "execution_count": 3,
   "metadata": {},
   "outputs": [
    {
     "data": {
      "text/markdown": [
       "## Describing Sequence $\\left(- \\frac{1}{5}\\right)^{k}$:"
      ],
      "text/plain": [
       "<IPython.core.display.Markdown object>"
      ]
     },
     "metadata": {},
     "output_type": "display_data"
    },
    {
     "data": {
      "text/latex": [
       "$\\displaystyle k = 0 : \\hspace{1cm} a_{0} =  1$"
      ],
      "text/plain": [
       "<IPython.core.display.Math object>"
      ]
     },
     "metadata": {},
     "output_type": "display_data"
    },
    {
     "data": {
      "text/latex": [
       "$\\displaystyle k = 1 : \\hspace{1cm} a_{1} =  - \\frac{1}{5}$"
      ],
      "text/plain": [
       "<IPython.core.display.Math object>"
      ]
     },
     "metadata": {},
     "output_type": "display_data"
    },
    {
     "data": {
      "text/latex": [
       "$\\displaystyle k = 2 : \\hspace{1cm} a_{2} =  \\frac{1}{25}$"
      ],
      "text/plain": [
       "<IPython.core.display.Math object>"
      ]
     },
     "metadata": {},
     "output_type": "display_data"
    },
    {
     "data": {
      "text/latex": [
       "$\\displaystyle k = 3 : \\hspace{1cm} a_{3} =  - \\frac{1}{125}$"
      ],
      "text/plain": [
       "<IPython.core.display.Math object>"
      ]
     },
     "metadata": {},
     "output_type": "display_data"
    },
    {
     "data": {
      "text/latex": [
       "$\\displaystyle \\left(- \\frac{1}{5}\\right)^{k} = \\{1,\\hspace{.5cm}- \\frac{1}{5},\\hspace{.5cm}\\frac{1}{25},\\hspace{.5cm}- \\frac{1}{125},\\hspace{.5cm}\\frac{1}{625},\\hspace{.5cm}- \\frac{1}{3125},\\hspace{.5cm}\\frac{1}{15625},\\hspace{.5cm}...\\}$"
      ],
      "text/plain": [
       "<IPython.core.display.Math object>"
      ]
     },
     "metadata": {},
     "output_type": "display_data"
    },
    {
     "data": {
      "text/latex": [
       "$\\displaystyle |\\left(- \\frac{1}{5}\\right)^{k}| = \\left(\\frac{1}{5}\\right)^{k} = \\{1,\\hspace{.5cm}\\frac{1}{5},\\hspace{.5cm}\\frac{1}{25},\\hspace{.5cm}\\frac{1}{125},\\hspace{.5cm}\\frac{1}{625},\\hspace{.5cm}\\frac{1}{3125},\\hspace{.5cm}\\frac{1}{15625},\\hspace{.5cm}...\\}$"
      ],
      "text/plain": [
       "<IPython.core.display.Math object>"
      ]
     },
     "metadata": {},
     "output_type": "display_data"
    },
    {
     "data": {
      "text/latex": [
       "$\\displaystyle     \\lim_{k \\to \\infty} |\\left(- \\frac{1}{5}\\right)^{k}| =    \\lim_{k \\to \\infty} \\left(\\frac{1}{5}\\right)^{k} =    0    $"
      ],
      "text/plain": [
       "<IPython.core.display.Math object>"
      ]
     },
     "metadata": {},
     "output_type": "display_data"
    },
    {
     "data": {
      "text/markdown": [
       "### Wolfram Alpha"
      ],
      "text/plain": [
       "<IPython.core.display.Markdown object>"
      ]
     },
     "metadata": {},
     "output_type": "display_data"
    },
    {
     "data": {
      "text/markdown": [
       "#### [WRA: $\\left(- \\frac{1}{5}\\right)^{k}$](https://www.wolframalpha.com/input/?i=%5Cleft%28-%20%5Cfrac%7B1%7D%7B5%7D%5Cright%29%5E%7Bk%7D)"
      ],
      "text/plain": [
       "<IPython.core.display.Markdown object>"
      ]
     },
     "metadata": {},
     "output_type": "display_data"
    },
    {
     "data": {
      "text/markdown": [
       "#### [WRA: $\\lim_{k \\to \\infty} |\\left(- \\frac{1}{5}\\right)^{k}|$](https://www.wolframalpha.com/input/?i=%5Clim_%7Bk%20%5Cto%20%5Cinfty%7D%20%7C%5Cleft%28-%20%5Cfrac%7B1%7D%7B5%7D%5Cright%29%5E%7Bk%7D%7C)"
      ],
      "text/plain": [
       "<IPython.core.display.Markdown object>"
      ]
     },
     "metadata": {},
     "output_type": "display_data"
    },
    {
     "data": {
      "text/markdown": [
       "## Describing Geometric Series $\\sum_{k = 0}^{\\infty} \\left(- \\frac{1}{5}\\right)^{k}$:"
      ],
      "text/plain": [
       "<IPython.core.display.Markdown object>"
      ]
     },
     "metadata": {},
     "output_type": "display_data"
    },
    {
     "data": {
      "text/latex": [
       "$\\displaystyle \\left(- \\frac{1}{5}\\right)^{k} = \\{1,\\hspace{.5cm}- \\frac{1}{5},\\hspace{.5cm}\\frac{1}{25},\\hspace{.5cm}- \\frac{1}{125},\\hspace{.5cm}\\frac{1}{625},\\hspace{.5cm}- \\frac{1}{3125},\\hspace{.5cm}\\frac{1}{15625},\\hspace{.5cm}...\\}$"
      ],
      "text/plain": [
       "<IPython.core.display.Math object>"
      ]
     },
     "metadata": {},
     "output_type": "display_data"
    },
    {
     "data": {
      "text/latex": [
       "$\\displaystyle k = 3: \\sum_{k = 0}^{3} \\left(- \\frac{1}{5}\\right)^{k} = (1)+(- \\frac{1}{5})+(\\frac{1}{25})+(- \\frac{1}{125}) = \\frac{104}{125}$"
      ],
      "text/plain": [
       "<IPython.core.display.Math object>"
      ]
     },
     "metadata": {},
     "output_type": "display_data"
    },
    {
     "data": {
      "text/latex": [
       "$\\displaystyle \\left(- \\frac{1}{5}\\right)^{k}, \\sum_{k = 0}^{\\infty} \\left(- \\frac{1}{5}\\right)^{k} = \\lim_{k \\to \\infty} \\frac{5}{6} - \\frac{5 \\left(\\frac{1}{5}\\right)^{k}}{6} = \\frac{5}{6}$"
      ],
      "text/plain": [
       "<IPython.core.display.Math object>"
      ]
     },
     "metadata": {},
     "output_type": "display_data"
    },
    {
     "data": {
      "text/markdown": [
       "### Wolfram Alpha"
      ],
      "text/plain": [
       "<IPython.core.display.Markdown object>"
      ]
     },
     "metadata": {},
     "output_type": "display_data"
    },
    {
     "data": {
      "text/markdown": [
       "#### [WRA: $\\sum_{k = 0}^{\\infty} \\left(- \\frac{1}{5}\\right)^{k}$](https://www.wolframalpha.com/input/?i=%5Csum_%7Bk%20%3D%200%7D%5E%7B%5Cinfty%7D%20%5Cleft%28-%20%5Cfrac%7B1%7D%7B5%7D%5Cright%29%5E%7Bk%7D)"
      ],
      "text/plain": [
       "<IPython.core.display.Markdown object>"
      ]
     },
     "metadata": {},
     "output_type": "display_data"
    }
   ],
   "source": [
    "def A2(Seq:sp.Expr, n:int=4, Section:str = '#'):\n",
    "    DescribeSequence(Seq)\n",
    "    DescribeGeometricSeries(Seq)\n",
    "\n",
    "Sequence = (-R(1, 5))**k\n",
    "\n",
    "A2(Sequence, 4)"
   ]
  },
  {
   "attachments": {},
   "cell_type": "markdown",
   "metadata": {
    "jp-MarkdownHeadingCollapsed": true,
    "tags": []
   },
   "source": [
    "# Q-3"
   ]
  },
  {
   "cell_type": "code",
   "execution_count": 4,
   "metadata": {},
   "outputs": [
    {
     "data": {
      "text/markdown": [
       "## Describing Sequence $\\frac{\\left(-1\\right)^{k} \\left(k + 3\\right)}{k^{2} + 7 k + 6}$:"
      ],
      "text/plain": [
       "<IPython.core.display.Markdown object>"
      ]
     },
     "metadata": {},
     "output_type": "display_data"
    },
    {
     "data": {
      "text/latex": [
       "$\\displaystyle k = 0 : \\hspace{1cm} a_{0} =  \\frac{1}{2}$"
      ],
      "text/plain": [
       "<IPython.core.display.Math object>"
      ]
     },
     "metadata": {},
     "output_type": "display_data"
    },
    {
     "data": {
      "text/latex": [
       "$\\displaystyle k = 1 : \\hspace{1cm} a_{1} =  - \\frac{2}{7}$"
      ],
      "text/plain": [
       "<IPython.core.display.Math object>"
      ]
     },
     "metadata": {},
     "output_type": "display_data"
    },
    {
     "data": {
      "text/latex": [
       "$\\displaystyle k = 2 : \\hspace{1cm} a_{2} =  \\frac{5}{24}$"
      ],
      "text/plain": [
       "<IPython.core.display.Math object>"
      ]
     },
     "metadata": {},
     "output_type": "display_data"
    },
    {
     "data": {
      "text/latex": [
       "$\\displaystyle \\frac{\\left(-1\\right)^{k} \\left(k + 3\\right)}{k^{2} + 7 k + 6} = \\{\\frac{1}{2},\\hspace{.5cm}- \\frac{2}{7},\\hspace{.5cm}\\frac{5}{24},\\hspace{.5cm}- \\frac{1}{6},\\hspace{.5cm}\\frac{7}{50},\\hspace{.5cm}- \\frac{4}{33},\\hspace{.5cm}...\\}$"
      ],
      "text/plain": [
       "<IPython.core.display.Math object>"
      ]
     },
     "metadata": {},
     "output_type": "display_data"
    },
    {
     "data": {
      "text/latex": [
       "$\\displaystyle |\\frac{\\left(-1\\right)^{k} \\left(k + 3\\right)}{k^{2} + 7 k + 6}| = \\frac{k + 3}{k^{2} + 7 k + 6} = \\{\\frac{1}{2},\\hspace{.5cm}\\frac{2}{7},\\hspace{.5cm}\\frac{5}{24},\\hspace{.5cm}\\frac{1}{6},\\hspace{.5cm}\\frac{7}{50},\\hspace{.5cm}\\frac{4}{33},\\hspace{.5cm}...\\}$"
      ],
      "text/plain": [
       "<IPython.core.display.Math object>"
      ]
     },
     "metadata": {},
     "output_type": "display_data"
    },
    {
     "data": {
      "text/latex": [
       "$\\displaystyle     \\lim_{k \\to \\infty} |\\frac{\\left(-1\\right)^{k} \\left(k + 3\\right)}{k^{2} + 7 k + 6}| =    \\lim_{k \\to \\infty} \\frac{k + 3}{k^{2} + 7 k + 6} =    0    $"
      ],
      "text/plain": [
       "<IPython.core.display.Math object>"
      ]
     },
     "metadata": {},
     "output_type": "display_data"
    },
    {
     "data": {
      "text/markdown": [
       "### Wolfram Alpha"
      ],
      "text/plain": [
       "<IPython.core.display.Markdown object>"
      ]
     },
     "metadata": {},
     "output_type": "display_data"
    },
    {
     "data": {
      "text/markdown": [
       "#### [WRA: $\\frac{\\left(-1\\right)^{k} \\left(k + 3\\right)}{k^{2} + 7 k + 6}$](https://www.wolframalpha.com/input/?i=%5Cfrac%7B%5Cleft%28-1%5Cright%29%5E%7Bk%7D%20%5Cleft%28k%20%2B%203%5Cright%29%7D%7Bk%5E%7B2%7D%20%2B%207%20k%20%2B%206%7D)"
      ],
      "text/plain": [
       "<IPython.core.display.Markdown object>"
      ]
     },
     "metadata": {},
     "output_type": "display_data"
    },
    {
     "data": {
      "text/markdown": [
       "#### [WRA: $\\lim_{k \\to \\infty} |\\frac{\\left(-1\\right)^{k} \\left(k + 3\\right)}{k^{2} + 7 k + 6}|$](https://www.wolframalpha.com/input/?i=%5Clim_%7Bk%20%5Cto%20%5Cinfty%7D%20%7C%5Cfrac%7B%5Cleft%28-1%5Cright%29%5E%7Bk%7D%20%5Cleft%28k%20%2B%203%5Cright%29%7D%7Bk%5E%7B2%7D%20%2B%207%20k%20%2B%206%7D%7C)"
      ],
      "text/plain": [
       "<IPython.core.display.Markdown object>"
      ]
     },
     "metadata": {},
     "output_type": "display_data"
    },
    {
     "data": {
      "text/markdown": [
       "## Leibniz-Kriterium"
      ],
      "text/plain": [
       "<IPython.core.display.Markdown object>"
      ]
     },
     "metadata": {},
     "output_type": "display_data"
    },
    {
     "data": {
      "text/latex": [
       "$\\displaystyle a_{k} = \\frac{\\left(-1\\right)^{k} \\left(k + 3\\right)}{k^{2} + 7 k + 6} = \\{\\frac{1}{2},\\hspace{.5cm}- \\frac{2}{7},\\hspace{.5cm}\\frac{5}{24},\\hspace{.5cm}- \\frac{1}{6},\\hspace{.5cm}\\frac{7}{50},\\hspace{.5cm}- \\frac{4}{33},\\hspace{.5cm}...\\}$"
      ],
      "text/plain": [
       "<IPython.core.display.Math object>"
      ]
     },
     "metadata": {},
     "output_type": "display_data"
    },
    {
     "data": {
      "text/latex": [
       "$\\displaystyle     \\lim_{k \\to \\infty} |\\frac{\\left(-1\\right)^{k} \\left(k + 3\\right)}{k^{2} + 7 k + 6}| =    \\lim_{k \\to \\infty} \\frac{k + 3}{k^{2} + 7 k + 6} =    0    $"
      ],
      "text/plain": [
       "<IPython.core.display.Math object>"
      ]
     },
     "metadata": {},
     "output_type": "display_data"
    },
    {
     "data": {
      "text/markdown": [
       " $\\implies$ Nullfolge"
      ],
      "text/plain": [
       "<IPython.core.display.Markdown object>"
      ]
     },
     "metadata": {},
     "output_type": "display_data"
    },
    {
     "data": {
      "text/latex": [
       "$\\displaystyle  |a_{k} | = \\frac{k + 3}{k^{2} + 7 k + 6} \\hspace{1cm} |a_{k+1}| = \\frac{k + 4}{k^{2} + 9 k + 14}$"
      ],
      "text/plain": [
       "<IPython.core.display.Math object>"
      ]
     },
     "metadata": {},
     "output_type": "display_data"
    },
    {
     "data": {
      "text/latex": [
       "$\\displaystyle \\widetilde{S} = \\sum_{k = 0}^{2} \\frac{\\left(-1\\right)^{k} \\left(k + 3\\right)}{k^{2} + 7 k + 6} = (\\frac{1}{2})+(- \\frac{2}{7})+(\\frac{5}{24}) = \\frac{71}{168}$"
      ],
      "text/plain": [
       "<IPython.core.display.Math object>"
      ]
     },
     "metadata": {},
     "output_type": "display_data"
    },
    {
     "data": {
      "text/latex": [
       "$\\displaystyle \\sum_{k = 0}^{3} \\frac{\\left(-1\\right)^{k} \\left(k + 3\\right)}{k^{2} + 7 k + 6} = (\\frac{1}{2})+(- \\frac{2}{7})+(\\frac{5}{24})+(- \\frac{1}{6}) = \\frac{43}{168}$"
      ],
      "text/plain": [
       "<IPython.core.display.Math object>"
      ]
     },
     "metadata": {},
     "output_type": "display_data"
    },
    {
     "data": {
      "text/latex": [
       "$\\displaystyle |S_{3} - \\widetilde{S}| =  |\\sum_{k = 0}^{3} \\frac{\\left(-1\\right)^{k} \\left(k + 3\\right)}{k^{2} + 7 k + 6} - \\sum_{k = 0}^{2} \\frac{\\left(-1\\right)^{k} \\left(k + 3\\right)}{k^{2} + 7 k + 6}| =      |\\frac{43}{168} - \\frac{71}{168}| =      \\frac{1}{6} \\le ( |a_{3}| = \\frac{1}{6})      $"
      ],
      "text/plain": [
       "<IPython.core.display.Math object>"
      ]
     },
     "metadata": {},
     "output_type": "display_data"
    },
    {
     "data": {
      "text/markdown": [
       "### Wolfram Alpha"
      ],
      "text/plain": [
       "<IPython.core.display.Markdown object>"
      ]
     },
     "metadata": {},
     "output_type": "display_data"
    },
    {
     "data": {
      "text/markdown": [
       "#### [|$\\frac{\\left(-1\\right)^{k} \\left(k + 3\\right)}{k^{2} + 7 k + 6}$| where k is 3](https://www.wolframalpha.com/input/?i=%7C%5Cfrac%7B%5Cleft%28-1%5Cright%29%5E%7Bk%7D%20%5Cleft%28k%20%2B%203%5Cright%29%7D%7Bk%5E%7B2%7D%20%2B%207%20k%20%2B%206%7D%7C%20where%20k%20is%203)"
      ],
      "text/plain": [
       "<IPython.core.display.Markdown object>"
      ]
     },
     "metadata": {},
     "output_type": "display_data"
    },
    {
     "data": {
      "text/markdown": [
       "#### [WRA: $\\sum_{k = 0}^{2} \\frac{\\left(-1\\right)^{k} \\left(k + 3\\right)}{k^{2} + 7 k + 6}$](https://www.wolframalpha.com/input/?i=%5Csum_%7Bk%20%3D%200%7D%5E%7B2%7D%20%5Cfrac%7B%5Cleft%28-1%5Cright%29%5E%7Bk%7D%20%5Cleft%28k%20%2B%203%5Cright%29%7D%7Bk%5E%7B2%7D%20%2B%207%20k%20%2B%206%7D)"
      ],
      "text/plain": [
       "<IPython.core.display.Markdown object>"
      ]
     },
     "metadata": {},
     "output_type": "display_data"
    },
    {
     "data": {
      "text/markdown": [
       "#### [WRA: $\\sum_{k = 0}^{3} \\frac{\\left(-1\\right)^{k} \\left(k + 3\\right)}{k^{2} + 7 k + 6}$](https://www.wolframalpha.com/input/?i=%5Csum_%7Bk%20%3D%200%7D%5E%7B3%7D%20%5Cfrac%7B%5Cleft%28-1%5Cright%29%5E%7Bk%7D%20%5Cleft%28k%20%2B%203%5Cright%29%7D%7Bk%5E%7B2%7D%20%2B%207%20k%20%2B%206%7D)"
      ],
      "text/plain": [
       "<IPython.core.display.Markdown object>"
      ]
     },
     "metadata": {},
     "output_type": "display_data"
    }
   ],
   "source": [
    "def A3(Seq:sp.Expr, n:int=3, Section:str = '#', k:sp.Symbol = k):\n",
    "    DescribeSequence(Seq, n)\n",
    "    LeibnizK(Seq, n)\n",
    "\n",
    "Sequence = (-1)**k *(k + 3) / (k**2 + 7*k + 6)\n",
    "\n",
    "A3(Sequence, 3)"
   ]
  },
  {
   "attachments": {},
   "cell_type": "markdown",
   "metadata": {
    "jp-MarkdownHeadingCollapsed": true,
    "tags": []
   },
   "source": [
    "# Q-4"
   ]
  },
  {
   "cell_type": "code",
   "execution_count": 5,
   "metadata": {},
   "outputs": [
    {
     "data": {
      "text/latex": [
       "$\\displaystyle f(x) =  \\frac{5}{2 - 7 x}$"
      ],
      "text/plain": [
       "<IPython.core.display.Math object>"
      ]
     },
     "metadata": {},
     "output_type": "display_data"
    },
    {
     "data": {
      "text/latex": [
       "$\\displaystyle f(x) =  \\frac{5}{2} \\cdot \\frac{1}{1 - (\\frac{7}{2}) \\cdot x}$"
      ],
      "text/plain": [
       "<IPython.core.display.Math object>"
      ]
     },
     "metadata": {},
     "output_type": "display_data"
    },
    {
     "data": {
      "text/markdown": [
       "## Geometrische Reihe mit $q = \\frac{7 x}{2}$"
      ],
      "text/plain": [
       "<IPython.core.display.Markdown object>"
      ]
     },
     "metadata": {},
     "output_type": "display_data"
    },
    {
     "data": {
      "text/latex": [
       "$\\displaystyle f(x) =  \\frac{5}{2 - 7 x} = \\frac{5}{2} \\sum_{k = 0}^{\\infty} \\left(\\frac{7 x}{2}\\right)^{k} = \\sum_{k = 0}^{\\infty} \\frac{5}{2} \\cdot \\left(\\frac{7}{2}\\right)^{k} x^{k} \\implies a_{k} =  \\frac{5}{2} \\cdot \\left(\\frac{7}{2}\\right)^{k}$"
      ],
      "text/plain": [
       "<IPython.core.display.Math object>"
      ]
     },
     "metadata": {},
     "output_type": "display_data"
    },
    {
     "data": {
      "text/latex": [
       "$\\displaystyle |q| =  |\\frac{7 x}{2}| < 1 \\implies - \\frac{2}{7} < x \\wedge x < \\frac{2}{7} \\implies |x| < \\frac{2}{7} \\implies r = \\frac{2}{7}$"
      ],
      "text/plain": [
       "<IPython.core.display.Math object>"
      ]
     },
     "metadata": {},
     "output_type": "display_data"
    }
   ],
   "source": [
    "def A4(f:sp.Expr, x:sp.Expr = x, k:sp.Expr = k, ParentSection:str ='#'):\n",
    "   PF(f\"f({L(x)}) = \", f)\n",
    "   n, d = sp.fraction(f)\n",
    "   Coef = sp.Poly(d).coeffs()\n",
    "   factor = R(n,Coef[1])\n",
    "   q = -R(*Coef)\n",
    "   PF(f\"f({L(x)}) = \", factor, r\"\\cdot\", f\"\\\\frac{{1}}{{1 - ({L(q)}) \\\\cdot x}}\")\n",
    "   PM(f\"{ParentSection}# Geometrische Reihe mit $q = {L(q*x)}$\")\n",
    "   PF(f\"f({L(x)}) = \", f, '=', factor, LSum((q*x)**k)(), \n",
    "      '=', LSum(seq := q**k)(SumFormat = lambda S, seq: f\"{S} {L(factor)} \\\\cdot {seq} {L(x**k)}\"),\n",
    "      r'\\implies', f\"a_{{{L(k)}}} = \", factor, r'\\cdot', seq\n",
    "   )\n",
    "\n",
    "   PF(f\"|q| = \", f\"|{L(q*x)}| < 1\", r'\\implies', r := sp.solve(abs(q*x) < 1), \n",
    "      r'\\implies', f\"|{L(x)}| < {L(rv := abs(r.as_set().args[0]))}\",\n",
    "      r'\\implies', f\"r = {L(rv)}\"\n",
    "      )\n",
    "\n",
    "f = 5/(2 - 7*x)\n",
    "\n",
    "A4(f)"
   ]
  },
  {
   "attachments": {},
   "cell_type": "markdown",
   "metadata": {
    "jp-MarkdownHeadingCollapsed": true,
    "tags": []
   },
   "source": [
    "# Q-5"
   ]
  },
  {
   "cell_type": "code",
   "execution_count": 6,
   "metadata": {},
   "outputs": [
    {
     "data": {
      "text/latex": [
       "$\\displaystyle cos(x) = ... \\frac{x^{4}}{24} - \\frac{x^{2}}{2} + 1$"
      ],
      "text/plain": [
       "<IPython.core.display.Math object>"
      ]
     },
     "metadata": {},
     "output_type": "display_data"
    },
    {
     "data": {
      "text/latex": [
       "$\\displaystyle cos(x^2) = ... \\frac{x^{8}}{24} - \\frac{x^{4}}{2} + 1$"
      ],
      "text/plain": [
       "<IPython.core.display.Math object>"
      ]
     },
     "metadata": {},
     "output_type": "display_data"
    },
    {
     "data": {
      "text/latex": [
       "$\\displaystyle cos(x^2) \\approx  1 - \\frac{x^{4}}{2}$"
      ],
      "text/plain": [
       "<IPython.core.display.Math object>"
      ]
     },
     "metadata": {},
     "output_type": "display_data"
    },
    {
     "data": {
      "text/latex": [
       "$\\displaystyle I(x) =  - \\frac{x^{5}}{10} + x$"
      ],
      "text/plain": [
       "<IPython.core.display.Math object>"
      ]
     },
     "metadata": {},
     "output_type": "display_data"
    }
   ],
   "source": [
    "def A5():\n",
    "    S = CosSeries(innerFunction=x**2)\n",
    "\n",
    "    n = 5\n",
    "\n",
    "    PF(\"cos(x) = ...\", PolynomialApproximationOf(CosSeries(), n))\n",
    "    PF(\"cos(x^2) = ...\", PolynomialApproximationOf(CosSeries(innerFunction=x**2), 2*n))\n",
    "\n",
    "    S5 = PolynomialApproximationOf(S, n)\n",
    "\n",
    "    PF(r\"cos(x^2) \\approx \", S5)\n",
    "\n",
    "    I = sp.integrate(S5, x)\n",
    "\n",
    "    PF(\"I(x) = \", I)\n",
    "\n",
    "    sp.integrate(S5, (x, 0, R(2, 5)))\n",
    "\n",
    "    # https://www.wolframalpha.com/input?i=int+1+-+x%5E4%2F2%2C+x%2C+0%2C+2%2F5\n",
    "    \n",
    "\n",
    "A5()   # static"
   ]
  },
  {
   "attachments": {},
   "cell_type": "markdown",
   "metadata": {
    "jp-MarkdownHeadingCollapsed": true,
    "tags": []
   },
   "source": [
    "# Q-6"
   ]
  },
  {
   "cell_type": "code",
   "execution_count": 7,
   "metadata": {},
   "outputs": [
    {
     "data": {
      "text/latex": [
       "$\\displaystyle f (x) =  \\frac{\\log{\\left(x - 1 \\right)}}{3 - x}$"
      ],
      "text/plain": [
       "<IPython.core.display.Math object>"
      ]
     },
     "metadata": {},
     "output_type": "display_data"
    },
    {
     "data": {
      "text/latex": [
       "$\\displaystyle f (2) =  0$"
      ],
      "text/plain": [
       "<IPython.core.display.Math object>"
      ]
     },
     "metadata": {},
     "output_type": "display_data"
    },
    {
     "data": {
      "text/latex": [
       "$\\displaystyle f' (2) =  1$"
      ],
      "text/plain": [
       "<IPython.core.display.Math object>"
      ]
     },
     "metadata": {},
     "output_type": "display_data"
    },
    {
     "data": {
      "text/latex": [
       "$\\displaystyle f'' (2) =  1$"
      ],
      "text/plain": [
       "<IPython.core.display.Math object>"
      ]
     },
     "metadata": {},
     "output_type": "display_data"
    },
    {
     "data": {
      "text/latex": [
       "$\\displaystyle T_{2} (x) =  \\frac{\\left(x - 2\\right)^{2}}{2}+x - 2$"
      ],
      "text/plain": [
       "<IPython.core.display.Math object>"
      ]
     },
     "metadata": {},
     "output_type": "display_data"
    }
   ],
   "source": [
    "def A6(f, n):\n",
    "    ApproximateFPolynomial(f, n)\n",
    "\n",
    "f = sp.ln(x - 1) / (3 -x)\n",
    "\n",
    "# f https://www.wolframalpha.com/input?i=ln%28x-1%29%2F%283-x%29+where+x+%3D+2\n",
    "\n",
    "# df https://www.wolframalpha.com/input?i=first+derivative+of+ln%28x-1%29%2F%283-x%29+at+x+%3D+2\n",
    "\n",
    "# ddf https://www.wolframalpha.com/input/?i=second+derivative+of+ln(x-1)%2F(3-x)+at+x+%3D+2\n",
    "\n",
    "A6(f, 2)"
   ]
  },
  {
   "attachments": {},
   "cell_type": "markdown",
   "metadata": {
    "tags": []
   },
   "source": [
    "# Q-7"
   ]
  },
  {
   "cell_type": "code",
   "execution_count": 8,
   "metadata": {},
   "outputs": [
    {
     "data": {
      "text/latex": [
       "$\\displaystyle g(x) \\approx (x)+(- \\frac{x^{3}}{6})$"
      ],
      "text/plain": [
       "<IPython.core.display.Math object>"
      ]
     },
     "metadata": {},
     "output_type": "display_data"
    },
    {
     "data": {
      "text/latex": [
       "$\\displaystyle h(x) \\approx (1)+(x)+(\\frac{x^{2}}{2})+(\\frac{x^{3}}{6})$"
      ],
      "text/plain": [
       "<IPython.core.display.Math object>"
      ]
     },
     "metadata": {},
     "output_type": "display_data"
    },
    {
     "data": {
      "text/latex": [
       "$\\displaystyle f(x) = h(x) \\cdot g(x) =  (x)+(x^{2})+(\\frac{x^{3}}{3}) ...$"
      ],
      "text/plain": [
       "<IPython.core.display.Math object>"
      ]
     },
     "metadata": {},
     "output_type": "display_data"
    }
   ],
   "source": [
    "def A7():\n",
    "    ShowSeq = lambda S: '+'.join(f\"({L(s)})\" for s in S if s != 0)\n",
    "\n",
    "    g = SinSeries()\n",
    "\n",
    "    n = 4\n",
    "\n",
    "    PF(r\"g(x) \\approx\", ShowSeq(g[0:1]))\n",
    "\n",
    "    h = ESeries()\n",
    "\n",
    "    PF(r\"h(x) \\approx\", ShowSeq(h[0:3]))\n",
    "\n",
    "    S = [c*x**i for i, c in zip(range(n+1), sp.Poly(h[:10]*g[:10]).all_coeffs()[::-1])] # enumerate shortest\n",
    "\n",
    "    PF(r\"f(x) = h(x) \\cdot g(x) = \", ShowSeq(S), '...')\n",
    "\n",
    "A7()   # static"
   ]
  },
  {
   "attachments": {},
   "cell_type": "markdown",
   "metadata": {},
   "source": [
    "# Online Resources"
   ]
  },
  {
   "attachments": {},
   "cell_type": "markdown",
   "metadata": {},
   "source": [
    "## Leibnitz-Kriterium"
   ]
  },
  {
   "attachments": {},
   "cell_type": "markdown",
   "metadata": {
    "tags": []
   },
   "source": [
    "### [VHM Uni Stuttgart: Folien_Leibniz-Kriterium.pdf](https://vhm.mathematik.uni-stuttgart.de/Vorlesungen/Differentialrechnung/Folien_Leibniz-Kriterium.pdf)"
   ]
  }
 ],
 "metadata": {
  "kernelspec": {
   "display_name": "Python 3 (ipykernel)",
   "language": "python",
   "name": "python3"
  },
  "language_info": {
   "codemirror_mode": {
    "name": "ipython",
    "version": 3
   },
   "file_extension": ".py",
   "mimetype": "text/x-python",
   "name": "python",
   "nbconvert_exporter": "python",
   "pygments_lexer": "ipython3",
   "version": "3.10.9"
  }
 },
 "nbformat": 4,
 "nbformat_minor": 4
}
