{
 "cells": [
  {
   "attachments": {},
   "cell_type": "markdown",
   "metadata": {},
   "source": [
    "# Muster zur Lösung von Differenzengleichung mit sympy"
   ]
  },
  {
   "cell_type": "code",
   "execution_count": null,
   "metadata": {
    "tags": []
   },
   "outputs": [],
   "source": [
    "from sympy import (\n",
    "   symbols, Eq, Function, Equality, Symbol,\n",
    "   rsolve, solve, rsolve_poly,\n",
    "   Lambda, Poly\n",
    ")\n",
    "\n",
    "from IPython.display import display, Markdown\n",
    "\n",
    "PM = lambda S: display(Markdown(S))    # print Markdown"
   ]
  },
  {
   "cell_type": "code",
   "execution_count": null,
   "metadata": {
    "tags": []
   },
   "outputs": [],
   "source": [
    "k = symbols('k')\n",
    "y = Function('y')\n",
    "l = symbols('lambda')"
   ]
  },
  {
   "cell_type": "code",
   "execution_count": null,
   "metadata": {
    "tags": []
   },
   "outputs": [],
   "source": [
    "def Solve(eq:Equality, *Y0s, y:Function = y, k:Symbol = k):\n",
    "\n",
    "    PM(f\"# Lösung\")\n",
    "\n",
    "    display(eq)\n",
    "\n",
    "    C_Poly = eq.lhs.subs(k, 0)\n",
    "\n",
    "    C_Poly = C_Poly.replace(y, Lambda((k), l**k))\n",
    "\n",
    "    PM(f\"## Charakteristisches Polynom\")\n",
    "\n",
    "    display(C_Poly.factor())\n",
    "\n",
    "    C_Poly = Poly(C_Poly)\n",
    "\n",
    "    for i, root in enumerate(C_Poly.all_roots(), 1):\n",
    "       display(Eq(symbols(f\"\\\\lambda_{{{i}}}\"), root))\n",
    "\n",
    "    PM(f\"## Homogene Lösung\")\n",
    "\n",
    "    # h. Lösung\n",
    "    h_sol = rsolve(eq.lhs, y(k))\n",
    "\n",
    "    display(Eq(Function(\"y_h\")(k), h_sol))\n",
    "\n",
    "    # resolv_poly takes coefficients starting with a0 y^0, a1 y^1, a2 y^2 ...\n",
    "    Coeffs = C_Poly.all_coeffs()[::-1]\n",
    "\n",
    "    # p. Lösung\n",
    "    # coeff [a0 y^0, a1 y^1, a2 y^2 ...]\n",
    "    p_sol = rsolve_poly(Coeffs, eq.rhs, k)\n",
    "\n",
    "    PM(f\"## Inhomogene Lösung\")\n",
    "\n",
    "    display(Eq(Function(\"y_p\")(k), p_sol))\n",
    "\n",
    "    sol = h_sol + p_sol\n",
    "\n",
    "    PM(f\"## Allgemeine Lösung\")\n",
    "\n",
    "    display(Eq(y(k), sol))\n",
    "\n",
    "    def gen_eqs(*XY, x = k, y = sol):\n",
    "       \"\"\"\n",
    "          Generates Equation System from Starting Values\n",
    "       \"\"\"\n",
    "       def gen_eq(x0, y0, x=x, y=y):\n",
    "          return Eq(y.subs(x, x0), y0)\n",
    "       return [gen_eq(x0, y0) for x0, y0 in XY]\n",
    "\n",
    "    init_eqs = gen_eqs(*Y0s)\n",
    "\n",
    "    PM(f\"## Lösung des Anfangswertproblem\")\n",
    "\n",
    "    for r in init_eqs:\n",
    "       display(r)\n",
    "\n",
    "    C = solve(init_eqs)\n",
    "\n",
    "    for key, value in C.items():\n",
    "       display(Eq(key, value))\n",
    "\n",
    "    ans = sol.subs(C)\n",
    "\n",
    "    PM(f\"### Einsetzen\")\n",
    "\n",
    "    display(Eq(y(k), ans))\n",
    "\n",
    "    return ans"
   ]
  },
  {
   "attachments": {},
   "cell_type": "markdown",
   "metadata": {},
   "source": [
    "Es sollte funktionieren für alle Differenzengleichungen $n$ höherer Ordnung!\n",
    "\n",
    "Mit Polynom vom Grad $n$ als Störfunktion "
   ]
  },
  {
   "attachments": {},
   "cell_type": "markdown",
   "metadata": {},
   "source": [
    "``Changing the following cell should be enough to get the answer!``"
   ]
  },
  {
   "cell_type": "code",
   "execution_count": null,
   "metadata": {
    "tags": []
   },
   "outputs": [],
   "source": [
    "# Write your equation HERE!\n",
    "\n",
    "# Eq(lhs, rhs)      right-hand-side, left-hand-side\n",
    "# Eq (Lineare Differenzengleichungen, Polynomial Störglied)\n",
    "# Keep the liear part on the left!\n",
    "eq = Eq(y(k+2) -16*y(k), 4 -15*k)   # TODO\n",
    "\n",
    "# Anfangswerte Punkte (k, y) Schreiben\n",
    "\n",
    "Y0s = [(0, 0), (1, 1)]   #TODO\n",
    "\n",
    "# Oder\n",
    "def n(*Y): # enumeration\n",
    "    return [(i, y) for i, y in enumerate(Y)]\n",
    "# Y0s = n(0, 1)\n",
    "\n",
    "Solve(eq, *Y0s)"
   ]
  }
 ],
 "metadata": {
  "kernelspec": {
   "display_name": "Python 3 (ipykernel)",
   "language": "python",
   "name": "python3"
  },
  "language_info": {
   "codemirror_mode": {
    "name": "ipython",
    "version": 3
   },
   "file_extension": ".py",
   "mimetype": "text/x-python",
   "name": "python",
   "nbconvert_exporter": "python",
   "pygments_lexer": "ipython3",
   "version": "3.10.9"
  }
 },
 "nbformat": 4,
 "nbformat_minor": 4
}
