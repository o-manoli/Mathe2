{
 "cells": [
  {
   "cell_type": "code",
   "execution_count": null,
   "id": "73110123-cd38-4052-b574-2349b88d5ea2",
   "metadata": {
    "tags": []
   },
   "outputs": [],
   "source": [
    "import copy\n",
    "import functools\n",
    "import numpy as np\n",
    "from time import sleep\n",
    "from typing import Callable\n",
    "from matplotlib import pyplot as plt\n",
    "from IPython.display import update_display, display"
   ]
  },
  {
   "cell_type": "code",
   "execution_count": null,
   "id": "7063858c-9a20-4698-a8cd-cb2629402a8d",
   "metadata": {
    "tags": []
   },
   "outputs": [],
   "source": [
    "# Points\n",
    "\n",
    "LABEL = 'P_'    # A label to identify the points that makes the shape\n",
    "\n",
    "# Line Break\n",
    "LB = np.array(2*[np.nan]).reshape(-1, 1)     #-> [np.nan, np.nan] : int*list means repeating the list\n",
    "\n",
    "def fetch_labeled() -> list[str]:\n",
    "    return [var for var in globals() if var.startswith(LABEL)]\n",
    "\n",
    "def fetch_index() -> str:      # last indexed label\n",
    "    return sorted(fetch_labeled())[-1]\n",
    "\n",
    "def fetch_points() -> list[np.ndarray]:\n",
    "    return [globals()[var] for var in fetch_labeled()]\n",
    "\n",
    "def Compile() -> np.ndarray:\n",
    "    points = fetch_points()\n",
    "\n",
    "    if not len(points):\n",
    "        return np.array([])\n",
    "\n",
    "    def yielder():\n",
    "        yield points[0]\n",
    "        for p in points[1:]:\n",
    "            yield LB\n",
    "            yield p\n",
    "    return np.concatenate(tuple(yielder()), 1) # hstack\n",
    "\n",
    "def line(*points):\n",
    "    # line segment, *segments\n",
    "    return np.array(points).T\n",
    "\n",
    "# - - - - - - - - - - - - - - -\n",
    "\n",
    "# Shapes\n",
    "\n",
    "def Poly(*points, res:int = 100):\n",
    "    # points tuple\n",
    "    points = line(*points)\n",
    "    polyS = functools.partial(np.vander, N=points.shape[1])\n",
    "    C = np.linalg.solve(polyS(points[0, :]), points[1, :])\n",
    "    XY = np.empty([2, res])\n",
    "    XY[0, :] = np.linspace(min(points[0, :]), max(points[0, :]), res)\n",
    "    XY[1, :] = polyS(XY[0, :]) @ C\n",
    "    return XY\n",
    "\n",
    "def circle(x, y, radius, res:int= 100, T:np.ndarray | None = None) -> np.ndarray:\n",
    "    T = np.linspace(0, 2*np.pi, res) if T is None else T\n",
    "    XY = np.empty([2, res])\n",
    "    XY[0, :] = radius*np.cos(T) + x     # x axis\n",
    "    XY[1, :] = radius*np.sin(T) + y     # y axis\n",
    "    return XY\n",
    "\n",
    "def circles(*Points, radius=3, res = 100) -> list[np.ndarray]:\n",
    "    T = np.linspace(0, 2*np.pi, res)\n",
    "    draw = functools.partial(circle, radius = radius, T = T)\n",
    "    return [XY for XY in map(lambda xy: draw(*xy), Points)]\n",
    "\n",
    "## Rotation\n",
    "\n",
    "def rotation_matrix(alpha) -> np.ndarray:\n",
    "    return np.array([\n",
    "        (np.cos(alpha), -np.sin(alpha)),\n",
    "        (np.sin(alpha), np.cos(alpha))\n",
    "        ])\n",
    "\n",
    "def inDegrees(f:Callable):\n",
    "    d2r = lambda alpha: alpha*np.pi/180\n",
    "    @functools.wraps(f)\n",
    "    def wrapped(angle):\n",
    "        return f(d2r(angle))\n",
    "    return wrapped\n",
    "\n",
    "def rotate(angle):\n",
    "    # angle in radiant\n",
    "    M = rotation_matrix(angle)\n",
    "    for p in fetch_labeled():\n",
    "        globals()[p] = M @ globals()[p]\n",
    "\n",
    "rotateD = inDegrees(rotate)\n",
    "\n",
    "# - - - - - - - - - - - - - - -\n",
    "\n",
    "# Canvas\n",
    "\n",
    "x_min, x_max, y_min, y_max = -20.0, 20.0, -10.0, 12.0\n",
    "\n",
    "XYLIM = x_min, x_max ,y_min, y_max\n",
    "\n",
    "FIGSIZE = ((x_max-x_min)/4,(y_max-y_min)/4)\n",
    "\n",
    "x_ticks = np.arange(x_min,x_max+1)\n",
    "y_ticks = np.arange(y_min,y_max+1)\n",
    "\n",
    "fig, ax = plt.subplots(figsize=FIGSIZE)\n",
    "\n",
    "def Setup():\n",
    "    ax.axis(XYLIM)\n",
    "\n",
    "    ax.set_xticks(x_ticks[::2])  # Major Ticks\n",
    "    ax.set_yticks(y_ticks[::2])\n",
    "\n",
    "    ax.set_xticks(x_ticks,minor=True)\n",
    "    ax.set_yticks(y_ticks,minor=True)\n",
    "\n",
    "    ax.grid(which='minor', alpha=0.1)\n",
    "    ax.grid(which='major', alpha=0.5)\n",
    "\n",
    "Setup()\n",
    "\n",
    "def Clear():\n",
    "    ax.clear()\n",
    "    Setup()\n",
    "\n",
    "def Render(fmt = 'k', *plt_args, **plt_kwargs):\n",
    "    Clear()\n",
    "    ax.plot(*Compile(), fmt, *plt_args, **plt_kwargs)\n",
    "    return fig\n",
    "\n",
    "## Drawing\n",
    "\n",
    "def mark(*points, fmt:str = 'ro', **plt_kwargs):\n",
    "    P = line(*points)\n",
    "    ax.plot(*P, fmt, **plt_kwargs)\n",
    "\n",
    "## Animation\n",
    "\n",
    "def save_fig()->dict:\n",
    "    State = dict()\n",
    "    for p in fetch_labeled():\n",
    "        State[p] = copy.deepcopy(globals()[p])\n",
    "    return State\n",
    "\n",
    "def restore2(State:dict):\n",
    "    for key, value in State.items():\n",
    "        globals()[key] = value\n",
    "\n",
    "def animateRotationDemo(Duration = 3, Revolutions = 10):\n",
    "    fps = Duration/Revolutions\n",
    "    alpha = 2*np.pi/Revolutions\n",
    "    id = \"CAR-FIG\"\n",
    "    display(fig, display_id=id)\n",
    "    for i in range(Revolutions):\n",
    "        rotate(alpha)\n",
    "        sleep(fps)\n",
    "        update_display(Render(), display_id=id)\n",
    "\n",
    "# - - - - - - - - - - - - - - -"
   ]
  },
  {
   "cell_type": "code",
   "execution_count": null,
   "id": "1b7bf289-2b9c-401d-8469-0582cbfe24ad",
   "metadata": {
    "tags": []
   },
   "outputs": [],
   "source": [
    "P_1 = line([-16, 0], [-12, 0])\n",
    "\n",
    "P_2 = line((-6, 0), (6, 0))\n",
    "\n",
    "P_3 = line([12, 0], [16, 0], [15, 8])\n",
    "\n",
    "Render()"
   ]
  },
  {
   "cell_type": "code",
   "execution_count": null,
   "id": "c43adaf5-2152-47af-9f65-067f7377187f",
   "metadata": {
    "tags": []
   },
   "outputs": [],
   "source": [
    "points = (-9, 5), (0, 9), (12, 7)\n",
    "\n",
    "P_4 = Poly(*points)\n",
    "\n",
    "Render()\n",
    "\n",
    "mark(*points)"
   ]
  },
  {
   "cell_type": "code",
   "execution_count": null,
   "id": "847ae414-b26e-4907-b39c-e2bed6cd1a6e",
   "metadata": {
    "tags": []
   },
   "outputs": [],
   "source": [
    "points = (-16,0), (-12,4), (-9,5), (0,4), (12,7), (15,8)\n",
    "\n",
    "P_5 = Poly(*points)\n",
    "\n",
    "Render()\n",
    "\n",
    "mark(*points)"
   ]
  },
  {
   "cell_type": "code",
   "execution_count": null,
   "id": "36e6bb5d-3861-4ae0-973b-b7ee971fff12",
   "metadata": {
    "tags": []
   },
   "outputs": [],
   "source": [
    "P_6, P_7 = circles([-9, 0], [9, 0])\n",
    "\n",
    "Render()"
   ]
  },
  {
   "cell_type": "code",
   "execution_count": null,
   "id": "5421ae95-b4d5-4f9c-8cfc-99f4cf923684",
   "metadata": {
    "tags": []
   },
   "outputs": [],
   "source": [
    "S = save_fig()"
   ]
  },
  {
   "cell_type": "code",
   "execution_count": null,
   "id": "b720502c-12e1-4a59-a629-06966acda753",
   "metadata": {
    "tags": []
   },
   "outputs": [],
   "source": [
    "rotateD = inDegrees(rotate)\n",
    "\n",
    "rotate(np.pi)\n",
    "\n",
    "Render()\n",
    "\n",
    "rotateD(180)\n",
    "Render()\n",
    "\n",
    "rotateD(-30)\n",
    "Render()"
   ]
  },
  {
   "cell_type": "code",
   "execution_count": null,
   "id": "59131114-a186-4a3a-b9e7-ed94f8a6adde",
   "metadata": {
    "tags": []
   },
   "outputs": [],
   "source": [
    "restore2(S)\n",
    "Render()"
   ]
  },
  {
   "cell_type": "code",
   "execution_count": null,
   "id": "861c75b6-1854-4d65-bb96-2690808eaf75",
   "metadata": {
    "tags": []
   },
   "outputs": [],
   "source": [
    "animateRotationDemo()"
   ]
  }
 ],
 "metadata": {
  "kernelspec": {
   "display_name": "Python 3 (ipykernel)",
   "language": "python",
   "name": "python3"
  },
  "language_info": {
   "codemirror_mode": {
    "name": "ipython",
    "version": 3
   },
   "file_extension": ".py",
   "mimetype": "text/x-python",
   "name": "python",
   "nbconvert_exporter": "python",
   "pygments_lexer": "ipython3",
   "version": "3.10.9"
  }
 },
 "nbformat": 4,
 "nbformat_minor": 5
}
